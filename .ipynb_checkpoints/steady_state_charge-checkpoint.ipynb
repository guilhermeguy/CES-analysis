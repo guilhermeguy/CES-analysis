{
 "cells": [
  {
   "cell_type": "markdown",
   "metadata": {
    "colab_type": "text",
    "id": "av680Tt-gA85"
   },
   "source": [
    "Required modules"
   ]
  },
  {
   "cell_type": "code",
   "execution_count": 5,
   "metadata": {
    "colab": {},
    "colab_type": "code",
    "id": "nY7qK0DlMxup"
   },
   "outputs": [],
   "source": [
    "import numpy as np\n",
    "from scipy.interpolate import griddata\n",
    "import pandas as pd\n",
    "import CoolProp.CoolProp as cp\n",
    "import matplotlib.pyplot as plt\n",
    "import CES_funcoes\n",
    "%matplotlib inline"
   ]
  },
  {
   "cell_type": "markdown",
   "metadata": {
    "colab_type": "text",
    "id": "p0CjpJhbMxu2"
   },
   "source": [
    "### Parâmetros de Entrada\n",
    "\n",
    "Eficiências\n",
    "\n",
    "* C - Compressor \n",
    "\n",
    "* T - Turbina\n",
    "\n",
    "* B - Bomba\n",
    "\n",
    "T = temperatura em $K$"
   ]
  },
  {
   "cell_type": "code",
   "execution_count": 6,
   "metadata": {
    "colab": {},
    "colab_type": "code",
    "id": "FTYuasO8Mxu3"
   },
   "outputs": [],
   "source": [
    "fluid = 'Nitrogen'"
   ]
  },
  {
   "cell_type": "code",
   "execution_count": 7,
   "metadata": {
    "colab": {},
    "colab_type": "code",
    "id": "zu0IVkVdMxu6"
   },
   "outputs": [],
   "source": [
    "eta_c = 0.5\n",
    "eta_iso = 0.8\n",
    "eta_t = 0.85\n",
    "eta_b = 0.75\n",
    "T_0 = 298 # temperatura em K"
   ]
  },
  {
   "cell_type": "code",
   "execution_count": 8,
   "metadata": {
    "colab": {},
    "colab_type": "code",
    "id": "lejMolvAMxu-"
   },
   "outputs": [],
   "source": [
    "h_0 = cp.PropsSI('H','T',T_0,'P',101325,fluid)\n",
    "s_0 = cp.PropsSI('S','T',T_0,'P',101325,fluid)\n",
    "k = 1.4\n",
    "P_1 = 101325\n",
    "P_2 = 4e6\n",
    "P_3 = 2e7\n",
    "T_4 = 293-33\n",
    "T_1 = T_0\n",
    "T_3 = T_1\n",
    "T_19 = 400+273\n",
    "T_8 = 77.3\n",
    "Q_8 = 0\n",
    "T_9 = 77.3\n",
    "Q_9 = 1\n",
    "T_7 = 77.3\n",
    "T_15 = T_8\n",
    "m_c = 5"
   ]
  },
  {
   "cell_type": "markdown",
   "metadata": {
    "colab_type": "text",
    "id": "dKnEhlJXMxvC"
   },
   "source": [
    "### Propriedades termodinâmicas nos pontos"
   ]
  },
  {
   "cell_type": "code",
   "execution_count": 9,
   "metadata": {
    "colab": {},
    "colab_type": "code",
    "id": "Gzh2GQrOMxvD"
   },
   "outputs": [],
   "source": [
    "h_1 = cp.PropsSI('H','T',T_1,'P',P_1,fluid)\n",
    "s_1 = cp.PropsSI('S','T',T_1,'P',P_1,fluid)\n",
    "T_2 = T_1*(P_2 / P_1)**((k-1)/k)\n",
    "h_2 = cp.PropsSI('H','T',T_2,'P',P_2,fluid)\n",
    "s_2 = cp.PropsSI('S','T',T_2,'P',P_2,fluid)\n",
    "h_12 = h_1\n",
    "s_12 = s_1\n",
    "h_3 = cp.PropsSI('H','T',T_3,'P',P_2,fluid)\n",
    "s_3 = cp.PropsSI('S','T',T_3,'P',P_2,fluid)\n",
    "h_8 = cp.PropsSI('H','T',T_8,'Q',Q_8,fluid)\n",
    "s_8 = cp.PropsSI('S','T',T_8,'Q',Q_8,fluid)\n",
    "h_9 = cp.PropsSI('H','T',T_9,'Q',Q_9,fluid)\n",
    "s_9 = cp.PropsSI('S','T',T_9,'Q',Q_9,fluid)\n",
    "h_4 = cp.PropsSI('H','T',T_4,'P',P_2,fluid)\n",
    "s_4 = cp.PropsSI('S','T',T_4,'P',P_2,fluid)\n",
    "h_13 = h_4\n",
    "s_13 = s_4\n",
    "T_13 = T_4\n",
    "T_14 = T_13/((P_2/P_1)**((k-1)/k))\n",
    "h_14 = cp.PropsSI('H','T',T_14,'P',P_1,fluid)\n",
    "s_14 = cp.PropsSI('S','T',T_14,'P',P_1,fluid)\n",
    "T_10 = T_14\n",
    "h_10 = h_14\n",
    "s_10 = s_14"
   ]
  },
  {
   "cell_type": "markdown",
   "metadata": {
    "colab_type": "text",
    "id": "ZsKwH5K7MxvH"
   },
   "source": [
    "### Produção de líquido durante o armazenamento"
   ]
  },
  {
   "cell_type": "code",
   "execution_count": 10,
   "metadata": {
    "colab": {},
    "colab_type": "code",
    "id": "ikkQy8ZDMxvI"
   },
   "outputs": [],
   "source": [
    "z1 = np.linspace(0,1,100)\n",
    "eps1 = np.linspace(0,1,100)\n",
    "zcombeps = np.ones([z1.size * eps1.size,2])\n",
    "index = 0"
   ]
  },
  {
   "cell_type": "code",
   "execution_count": 11,
   "metadata": {
    "colab": {},
    "colab_type": "code",
    "id": "D80Aaj01MxvN"
   },
   "outputs": [],
   "source": [
    "[m,n] = zcombeps.shape"
   ]
  },
  {
   "cell_type": "code",
   "execution_count": 12,
   "metadata": {
    "colab": {},
    "colab_type": "code",
    "id": "p9x77WXfMxvT"
   },
   "outputs": [],
   "source": [
    "for i in z1:\n",
    "    for j in eps1:\n",
    "        zcombeps[index, 0] = j\n",
    "        zcombeps[index, 1] = i\n",
    "        index += 1"
   ]
  },
  {
   "cell_type": "code",
   "execution_count": 13,
   "metadata": {
    "colab": {},
    "colab_type": "code",
    "id": "8VSJX3axMxvW"
   },
   "outputs": [],
   "source": [
    "z = zcombeps[:,1]"
   ]
  },
  {
   "cell_type": "code",
   "execution_count": 14,
   "metadata": {
    "colab": {},
    "colab_type": "code",
    "id": "Aq136_S2MxvZ"
   },
   "outputs": [],
   "source": [
    "eps = zcombeps[:,0]"
   ]
  },
  {
   "cell_type": "code",
   "execution_count": 15,
   "metadata": {
    "colab": {},
    "colab_type": "code",
    "id": "yzoptcxlMxvc"
   },
   "outputs": [],
   "source": [
    "x = np.ones(m)\n",
    "index = 0"
   ]
  },
  {
   "cell_type": "code",
   "execution_count": 16,
   "metadata": {
    "colab": {},
    "colab_type": "code",
    "id": "7VoYnzWSMxvf"
   },
   "outputs": [],
   "source": [
    "for i in z:\n",
    "    x[index] = prodliq_ap(h_1,h_3,eps[index],h_9,eta_iso,z[index],h_13,h_14,h_8)\n",
    "    if x[index] < 0:\n",
    "        x[index] = np.nan\n",
    "    index += 1"
   ]
  },
  {
   "cell_type": "code",
   "execution_count": 17,
   "metadata": {
    "colab": {},
    "colab_type": "code",
    "id": "L3O8dWKIMxvj"
   },
   "outputs": [],
   "source": [
    "[X,Y] = np.meshgrid(z,eps)"
   ]
  },
  {
   "cell_type": "code",
   "execution_count": 18,
   "metadata": {
    "colab": {},
    "colab_type": "code",
    "id": "bszMz_OVMxvm"
   },
   "outputs": [],
   "source": [
    "Z = griddata((z,eps),x,(X,Y) , method = 'linear')"
   ]
  },
  {
   "cell_type": "markdown",
   "metadata": {
    "colab_type": "text",
    "id": "maz6KXJMMxvq"
   },
   "source": [
    "## Gráfico de contorno da produção de líquido\n",
    "\n",
    "O gráfico mostra a produção de líquido durante o carregamento em regime permanente em função da efetividade e do percentual de extração para  turbina 1."
   ]
  },
  {
   "cell_type": "code",
   "execution_count": 20,
   "metadata": {
    "colab": {
     "base_uri": "https://localhost:8080/",
     "height": 295
    },
    "colab_type": "code",
    "id": "J3Ra_KBkMxvs",
    "outputId": "083134e7-419c-4b43-9f6e-47e48131cdd2"
   },
   "outputs": [
    {
     "data": {
      "text/plain": [
       "Text(0, 0.5, 'Efetividade - $\\\\epsilon$')"
      ]
     },
     "execution_count": 20,
     "metadata": {},
     "output_type": "execute_result"
    },
    {
     "data": {
      "image/png": "[encoded data removed]",
      "text/plain": [
       "<Figure size 432x288 with 1 Axes>"
      ]
     },
     "metadata": {
      "needs_background": "light"
     },
     "output_type": "display_data"
    }
   ],
   "source": [
    "[fig, ax] = plt.subplots()\n",
    "CS = ax.contour(X, Y, Z, 6, colors = 'k', linewidths = 0.5)\n",
    "ax.clabel(CS, inline = True, inline_spacing = 7, fontsize=10)\n",
    "ax.set_title('Produção de líquido em regime permanente')\n",
    "plt.xlabel('Extração para Turbina 1 - z')\n",
    "plt.ylabel('Efetividade - $\\epsilon$')\n",
    "#plt.savefig('prodliq_ap.jpg', dpi = 600)"
   ]
  },
  {
   "cell_type": "code",
   "execution_count": 21,
   "metadata": {
    "colab": {},
    "colab_type": "code",
    "id": "MEdtOIwuMxv0"
   },
   "outputs": [],
   "source": [
    "m_l = x * m_c\n",
    "m_b = m_l"
   ]
  },
  {
   "cell_type": "markdown",
   "metadata": {
    "colab_type": "text",
    "id": "5NHHV6aexcYk"
   },
   "source": [
    "### Propriedades no circuito de geração durante o armazenamento"
   ]
  },
  {
   "cell_type": "code",
   "execution_count": 22,
   "metadata": {
    "colab": {},
    "colab_type": "code",
    "id": "hPKIi0tYhmPi"
   },
   "outputs": [],
   "source": [
    "h_15 = cp.PropsSI('H', 'T', T_15, 'P', P_3, fluid)\n",
    "s_15 = cp.PropsSI('S', 'T', T_15, 'P', P_3, fluid)\n",
    "h_16 = h_15 # não há vazão no TC4\n",
    "T_16 = T_15 # não há vazão no TC4\n",
    "h_17 = h_16 + 150000 # carga térmica no TC5 150 kJ / kg\n",
    "T_17 = cp.PropsSI('T', 'H', h_17, 'P', P_3, fluid)\n",
    "s_17 = cp.PropsSI('S', 'T', T_17, 'P', P_3, fluid)\n",
    "T_18 = 273 + 35 # temperatura de saída do cooler\n",
    "h_18 = cp.PropsSI('H', 'T', T_18, 'P', P_3, fluid)\n",
    "s_18 = cp.PropsSI('S', 'T', T_18, 'P', P_3, fluid)\n",
    "h_19 = cp.PropsSI('H', 'T', T_19, 'P', P_3, fluid)\n",
    "s_19 = cp.PropsSI('S', 'T', T_19, 'P', P_3, fluid)\n",
    "T_20 = T_19 / ((P_3 / P_1) ** ((k - 1) / k))\n",
    "h_20 = cp.PropsSI('H', 'T', T_20, 'P', P_3, fluid)\n",
    "s_20 = cp.PropsSI('S', 'T', T_20, 'P', P_3, fluid)"
   ]
  },
  {
   "cell_type": "markdown",
   "metadata": {
    "colab_type": "text",
    "id": "ieH42JRt0Pvz"
   },
   "source": [
    "### Trabalho e potência\n",
    "\n",
    "Volume de controle nos equipamentos para cálculo de trabalhos e potências e cargas térmicas\n",
    "\n",
    "$\\dot{W}$ - Potência = W\n",
    "\n",
    "$w$ - trabalho = w"
   ]
  },
  {
   "cell_type": "code",
   "execution_count": 23,
   "metadata": {
    "colab": {},
    "colab_type": "code",
    "id": "zjk23YoBz_Ak"
   },
   "outputs": [
    {
     "ename": "SyntaxError",
     "evalue": "invalid syntax (<ipython-input-23-fcd656632057>, line 5)",
     "output_type": "error",
     "traceback": [
      "\u001b[0;36m  File \u001b[0;32m\"<ipython-input-23-fcd656632057>\"\u001b[0;36m, line \u001b[0;32m5\u001b[0m\n\u001b[0;31m    w_T1 = # (he, hs, eta_t) -- (he - hs) * eta_t\u001b[0m\n\u001b[0m           ^\u001b[0m\n\u001b[0;31mSyntaxError\u001b[0m\u001b[0;31m:\u001b[0m invalid syntax\n"
     ]
    }
   ],
   "source": [
    "w_c = (h_2 - h_1) / eta_c # (hs - he) / (eta_c) --  (hs, he, eta_c)\n",
    "w_c\n",
    "w_b\n",
    "W_b = w_b * m_b # Potência W e trabalho w \n",
    "w_T1 = # (he, hs, eta_t) -- (he - hs) * eta_t\n",
    "W_T1 = \n",
    "w_T2 = \n",
    "W_T2 = \n",
    "## Trocador de calor (hs, he) -- q_t = hs - he\n"
   ]
  },
  {
   "cell_type": "code",
   "execution_count": null,
   "metadata": {},
   "outputs": [],
   "source": []
  }
 ],
 "metadata": {
  "colab": {
   "name": "Armazenamento em Regime Permanente.ipynb",
   "provenance": [],
   "toc_visible": true,
   "version": "0.3.2"
  },
  "kernelspec": {
   "display_name": "Python 3",
   "language": "python",
   "name": "python3"
  },
  "language_info": {
   "codemirror_mode": {
    "name": "ipython",
    "version": 3
   },
   "file_extension": ".py",
   "mimetype": "text/x-python",
   "name": "python",
   "nbconvert_exporter": "python",
   "pygments_lexer": "ipython3",
   "version": "3.8.5"
  }
 },
 "nbformat": 4,
 "nbformat_minor": 4
}
