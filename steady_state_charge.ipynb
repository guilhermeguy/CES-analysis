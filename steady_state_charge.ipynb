{
  "nbformat": 4,
  "nbformat_minor": 0,
  "metadata": {
    "colab": {
      "name": "Armazenamento em Regime Permanente.ipynb",
      "version": "0.3.2",
      "provenance": [],
      "toc_visible": true
    },
    "kernelspec": {
      "display_name": "Python 3",
      "language": "python",
      "name": "python3"
    }
  },
  "cells": [
    {
      "cell_type": "markdown",
      "metadata": {
        "id": "av680Tt-gA85",
        "colab_type": "text"
      },
      "source": [
        "Required modules"
      ]
    },
    {
      "cell_type": "code",
      "metadata": {
        "id": "LC6fag81fdhX",
        "colab_type": "code",
        "outputId": "7f5995c0-2b99-4406-f457-67b86bf75fb2",
        "colab": {
          "base_uri": "https://localhost:8080/",
          "height": 102
        }
      },
      "source": [
        "!pip install coolprop"
      ],
      "execution_count": 0,
      "outputs": [
        {
          "output_type": "stream",
          "text": [
            "Collecting coolprop\n",
            "\u001b[?25l  Downloading https://files.pythonhosted.org/packages/f4/a2/aab94f302d02d0bd53aba779b929fb5a06d48d9e63123252f7a0183f3170/CoolProp-6.2.1-cp36-cp36m-manylinux1_x86_64.whl (4.0MB)\n",
            "\u001b[K     |████████████████████████████████| 4.0MB 2.8MB/s \n",
            "\u001b[?25hInstalling collected packages: coolprop\n",
            "Successfully installed coolprop-6.2.1\n"
          ],
          "name": "stdout"
        }
      ]
    },
    {
      "cell_type": "code",
      "metadata": {
        "id": "nY7qK0DlMxup",
        "colab_type": "code",
        "colab": {}
      },
      "source": [
        "import numpy as np\n",
        "from scipy.interpolate import griddata\n",
        "import pandas as pd\n",
        "import CoolProp.CoolProp as cp\n",
        "import matplotlib.pyplot as plt"
      ],
      "execution_count": 0,
      "outputs": []
    },
    {
      "cell_type": "code",
      "metadata": {
        "id": "LT-z7aEgMxuu",
        "colab_type": "code",
        "colab": {}
      },
      "source": [
        "%matplotlib inline"
      ],
      "execution_count": 0,
      "outputs": []
    },
    {
      "cell_type": "markdown",
      "metadata": {
        "id": "z6DoX8QLy5VY",
        "colab_type": "text"
      },
      "source": [
        "###Function to calculate liquid production\n",
        "\n",
        "It has two conditions: if the sum of xl and z is lower that 1 it returns the value of the function. If not it returns 0,99 minus the extraction percentage to the by-pass turbine.\n",
        "\n",
        "* $h$ is the enthalpy at the point\n",
        "*$\\epsilon$ is the efficency of the heat exchangers\n",
        "* $\\eta_{iso} $ is the isoentropic efficiency\n",
        "*$z$ is the extraction to the by-pass turbine"
      ]
    },
    {
      "cell_type": "code",
      "metadata": {
        "id": "vK1AOba3Mxuy",
        "colab_type": "code",
        "colab": {}
      },
      "source": [
        "def prodliq_ap(h_1,h_3,eps,h_9,eta_iso,z,h_13,h_14,h_8):\n",
        "    ## produção de líquido em regime permanente\n",
        "    xl = ((h_1 - h_3 - (1 - eps) * (h_1 - h_9)) + eta_iso * z *(h_13-h_14)) / (h_1 - h_8 - (1 - eps) * (h_1 - h_9))\n",
        "    if xl + z < 1:\n",
        "        return xl\n",
        "    else: \n",
        "        return 0.99 - z"
      ],
      "execution_count": 0,
      "outputs": []
    },
    {
      "cell_type": "markdown",
      "metadata": {
        "id": "p0CjpJhbMxu2",
        "colab_type": "text"
      },
      "source": [
        "### Parâmetros de Entrada\n",
        "\n",
        "Eficiências\n",
        "\n",
        "* C - Compressor \n",
        "\n",
        "* T - Turbina\n",
        "\n",
        "* B - Bomba\n",
        "\n",
        "T = temperatura em $K$"
      ]
    },
    {
      "cell_type": "code",
      "metadata": {
        "id": "FTYuasO8Mxu3",
        "colab_type": "code",
        "colab": {}
      },
      "source": [
        "fluid = 'Nitrogen'"
      ],
      "execution_count": 0,
      "outputs": []
    },
    {
      "cell_type": "code",
      "metadata": {
        "id": "zu0IVkVdMxu6",
        "colab_type": "code",
        "colab": {}
      },
      "source": [
        "eta_c = 0.5\n",
        "eta_iso = 0.8\n",
        "eta_t = 0.85\n",
        "eta_b = 0.75\n",
        "T_0 = 298 # temperatura em K"
      ],
      "execution_count": 0,
      "outputs": []
    },
    {
      "cell_type": "code",
      "metadata": {
        "id": "lejMolvAMxu-",
        "colab_type": "code",
        "colab": {}
      },
      "source": [
        "h_0 = cp.PropsSI('H','T',T_0,'P',101325,fluid)\n",
        "s_0 = cp.PropsSI('S','T',T_0,'P',101325,fluid)\n",
        "k = 1.4\n",
        "P_1 = 101325\n",
        "P_2 = 4e6\n",
        "P_3 = 2e7\n",
        "T_4 = 293-33\n",
        "T_1 = T_0\n",
        "T_3 = T_1\n",
        "T_19 = 400+273\n",
        "T_8 = 77.3\n",
        "Q_8 = 0\n",
        "T_9 = 77.3\n",
        "Q_9 = 1\n",
        "T_7 = 77.3\n",
        "T_15 = T_8\n",
        "m_c = 5"
      ],
      "execution_count": 0,
      "outputs": []
    },
    {
      "cell_type": "markdown",
      "metadata": {
        "id": "dKnEhlJXMxvC",
        "colab_type": "text"
      },
      "source": [
        "### Propriedades termodinâmicas nos pontos"
      ]
    },
    {
      "cell_type": "code",
      "metadata": {
        "id": "Gzh2GQrOMxvD",
        "colab_type": "code",
        "colab": {}
      },
      "source": [
        "h_1 = cp.PropsSI('H','T',T_1,'P',P_1,fluid)\n",
        "s_1 = cp.PropsSI('S','T',T_1,'P',P_1,fluid)\n",
        "T_2 = T_1*(P_2 / P_1)**((k-1)/k)\n",
        "h_2 = cp.PropsSI('H','T',T_2,'P',P_2,fluid)\n",
        "s_2 = cp.PropsSI('S','T',T_2,'P',P_2,fluid)\n",
        "h_12 = h_1\n",
        "s_12 = s_1\n",
        "h_3 = cp.PropsSI('H','T',T_3,'P',P_2,fluid)\n",
        "s_3 = cp.PropsSI('S','T',T_3,'P',P_2,fluid)\n",
        "h_8 = cp.PropsSI('H','T',T_8,'Q',Q_8,fluid)\n",
        "s_8 = cp.PropsSI('S','T',T_8,'Q',Q_8,fluid)\n",
        "h_9 = cp.PropsSI('H','T',T_9,'Q',Q_9,fluid)\n",
        "s_9 = cp.PropsSI('S','T',T_9,'Q',Q_9,fluid)\n",
        "h_4 = cp.PropsSI('H','T',T_4,'P',P_2,fluid)\n",
        "s_4 = cp.PropsSI('S','T',T_4,'P',P_2,fluid)\n",
        "h_13 = h_4\n",
        "s_13 = s_4\n",
        "T_13 = T_4\n",
        "T_14 = T_13/((P_2/P_1)**((k-1)/k))\n",
        "h_14 = cp.PropsSI('H','T',T_14,'P',P_1,fluid)\n",
        "s_14 = cp.PropsSI('S','T',T_14,'P',P_1,fluid)\n",
        "T_10 = T_14\n",
        "h_10 = h_14\n",
        "s_10 = s_14"
      ],
      "execution_count": 0,
      "outputs": []
    },
    {
      "cell_type": "markdown",
      "metadata": {
        "id": "ZsKwH5K7MxvH",
        "colab_type": "text"
      },
      "source": [
        "### Produção de líquido durante o armazenamento"
      ]
    },
    {
      "cell_type": "code",
      "metadata": {
        "id": "ikkQy8ZDMxvI",
        "colab_type": "code",
        "colab": {}
      },
      "source": [
        "z1 = np.linspace(0,1,100)\n",
        "eps1 = np.linspace(0,1,100)\n",
        "zcombeps = np.ones([z1.size * eps1.size,2])\n",
        "index = 0"
      ],
      "execution_count": 0,
      "outputs": []
    },
    {
      "cell_type": "code",
      "metadata": {
        "id": "D80Aaj01MxvN",
        "colab_type": "code",
        "colab": {}
      },
      "source": [
        "[m,n] = zcombeps.shape"
      ],
      "execution_count": 0,
      "outputs": []
    },
    {
      "cell_type": "code",
      "metadata": {
        "id": "p9x77WXfMxvT",
        "colab_type": "code",
        "colab": {}
      },
      "source": [
        "for i in z1:\n",
        "    for j in eps1:\n",
        "        zcombeps[index, 0] = j\n",
        "        zcombeps[index, 1] = i\n",
        "        index += 1"
      ],
      "execution_count": 0,
      "outputs": []
    },
    {
      "cell_type": "code",
      "metadata": {
        "id": "8VSJX3axMxvW",
        "colab_type": "code",
        "colab": {}
      },
      "source": [
        "z = zcombeps[:,1]"
      ],
      "execution_count": 0,
      "outputs": []
    },
    {
      "cell_type": "code",
      "metadata": {
        "id": "Aq136_S2MxvZ",
        "colab_type": "code",
        "colab": {}
      },
      "source": [
        "eps = zcombeps[:,0]"
      ],
      "execution_count": 0,
      "outputs": []
    },
    {
      "cell_type": "code",
      "metadata": {
        "id": "yzoptcxlMxvc",
        "colab_type": "code",
        "colab": {}
      },
      "source": [
        "x = np.ones(m)\n",
        "index = 0"
      ],
      "execution_count": 0,
      "outputs": []
    },
    {
      "cell_type": "code",
      "metadata": {
        "id": "7VoYnzWSMxvf",
        "colab_type": "code",
        "colab": {}
      },
      "source": [
        "for i in z:\n",
        "    x[index] = prodliq_ap(h_1,h_3,eps[index],h_9,eta_iso,z[index],h_13,h_14,h_8)\n",
        "    if x[index] < 0:\n",
        "        x[index] = np.nan\n",
        "    index += 1"
      ],
      "execution_count": 0,
      "outputs": []
    },
    {
      "cell_type": "code",
      "metadata": {
        "id": "L3O8dWKIMxvj",
        "colab_type": "code",
        "colab": {}
      },
      "source": [
        "[X,Y] = np.meshgrid(z,eps)"
      ],
      "execution_count": 0,
      "outputs": []
    },
    {
      "cell_type": "code",
      "metadata": {
        "id": "bszMz_OVMxvm",
        "colab_type": "code",
        "colab": {}
      },
      "source": [
        "Z = griddata((z,eps),x,(X,Y) , method = 'linear')"
      ],
      "execution_count": 0,
      "outputs": []
    },
    {
      "cell_type": "markdown",
      "metadata": {
        "id": "maz6KXJMMxvq",
        "colab_type": "text"
      },
      "source": [
        "## Gráfico de contorno da produção de líquido\n",
        "\n",
        "O gráfico mostra a produção de líquido durante o carregamento em regime permanente em função da efetividade e do percentual de extração para  turbina 1."
      ]
    },
    {
      "cell_type": "code",
      "metadata": {
        "id": "J3Ra_KBkMxvs",
        "colab_type": "code",
        "outputId": "083134e7-419c-4b43-9f6e-47e48131cdd2",
        "colab": {
          "base_uri": "https://localhost:8080/",
          "height": 295
        }
      },
      "source": [
        "[fig, ax] = plt.subplots()\n",
        "CS = ax.contour(X, Y, Z, 6, colors = 'k', linewidths = 0.5)\n",
        "ax.clabel(CS, inline = True, inline_spacing = 7, fontsize=10)\n",
        "ax.set_title('Produção de líquido em regime permanente')\n",
        "plt.xlabel('Extração para Turbina 1 - z')\n",
        "plt.ylabel('Efetividade - $\\epsilon$')\n",
        "plt.savefig('prodliq_ap.jpg', dpi = 600)"
      ],
      "execution_count": 0,
      "outputs": [
        {
          "output_type": "display_data",
          "data": {
            "image/png": "[encoded data removed]",
            "text/plain": [
              "<Figure size 432x288 with 1 Axes>"
            ]
          },
          "metadata": {
            "tags": []
          }
        }
      ]
    },
    {
      "cell_type": "code",
      "metadata": {
        "id": "MEdtOIwuMxv0",
        "colab_type": "code",
        "colab": {}
      },
      "source": [
        "m_l = x * m_c\n",
        "m_b = m_l"
      ],
      "execution_count": 0,
      "outputs": []
    },
    {
      "cell_type": "markdown",
      "metadata": {
        "id": "5NHHV6aexcYk",
        "colab_type": "text"
      },
      "source": [
        "### Propriedades no circuito de geração durante o armazenamento"
      ]
    },
    {
      "cell_type": "code",
      "metadata": {
        "id": "hPKIi0tYhmPi",
        "colab_type": "code",
        "colab": {}
      },
      "source": [
        "h_15 = cp.PropsSI('H', 'T', T_15, 'P', P_3, fluid)\n",
        "s_15 = cp.PropsSI('S', 'T', T_15, 'P', P_3, fluid)\n",
        "h_16 = h_15 # não há vazão no TC4\n",
        "T_16 = T_15 # não há vazão no TC4\n",
        "h_17 = h_16 + 150000 # carga térmica no TC5 150 kJ / kg\n",
        "T_17 = cp.PropsSI('T', 'H', h_17, 'P', P_3, fluid)\n",
        "s_17 = cp.PropsSI('S', 'T', T_17, 'P', P_3, fluid)\n",
        "T_18 = 273 + 35 # temperatura de saída do cooler\n",
        "h_18 = cp.PropsSI('H', 'T', T_18, 'P', P_3, fluid)\n",
        "s_18 = cp.PropsSI('S', 'T', T_18, 'P', P_3, fluid)\n",
        "h_19 = cp.PropsSI('H', 'T', T_19, 'P', P_3, fluid)\n",
        "s_19 = cp.PropsSI('S', 'T', T_19, 'P', P_3, fluid)\n",
        "T_20 = T_19 / ((P_3 / P_1) ** ((k - 1) / k))\n",
        "h_20 = cp.PropsSI('H', 'T', T_20, 'P', P_3, fluid)\n",
        "s_20 = cp.PropsSI('S', 'T', T_20, 'P', P_3, fluid)"
      ],
      "execution_count": 0,
      "outputs": []
    },
    {
      "cell_type": "markdown",
      "metadata": {
        "id": "ieH42JRt0Pvz",
        "colab_type": "text"
      },
      "source": [
        "### Trabalho e potência\n",
        "\n",
        "Volume de controle nos equipamentos para cálculo de trabalhos e potências e cargas térmicas\n",
        "\n",
        "$\\dot{W}$ - Potência = W\n",
        "\n",
        "$w$ - trabalho = w"
      ]
    },
    {
      "cell_type": "code",
      "metadata": {
        "id": "zjk23YoBz_Ak",
        "colab_type": "code",
        "colab": {}
      },
      "source": [
        "w_c = (h_2 - h_1) / eta_c # (hs - he) / (eta_c) --  (hs, he, eta_c)\n",
        "w_c\n",
        "w_b\n",
        "W_b = w_b * m_b # Potência W e trabalho w \n",
        "w_T1 = # (he, hs, eta_t) -- (he - hs) * eta_t\n",
        "W_T1 = \n",
        "w_T2 = \n",
        "W_T2 = \n",
        "## Trocador de calor (hs, he) -- q_t = hs - he\n"
      ],
      "execution_count": 0,
      "outputs": []
    }
  ]
}